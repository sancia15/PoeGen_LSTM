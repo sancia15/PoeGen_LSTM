{
  "nbformat": 4,
  "nbformat_minor": 0,
  "metadata": {
    "colab": {
      "name": "PoemGen.ipynb",
      "provenance": [],
      "collapsed_sections": [],
      "authorship_tag": "ABX9TyM4810Hb/bqUmxRKkhuuhhY",
      "include_colab_link": true
    },
    "kernelspec": {
      "name": "python3",
      "display_name": "Python 3"
    }
  },
  "cells": [
    {
      "cell_type": "markdown",
      "metadata": {
        "id": "view-in-github",
        "colab_type": "text"
      },
      "source": [
        "<a href=\"https://colab.research.google.com/github/sancia15/PoeGen_LSTM/blob/master/PoemGen.ipynb\" target=\"_parent\"><img src=\"https://colab.research.google.com/assets/colab-badge.svg\" alt=\"Open In Colab\"/></a>"
      ]
    },
    {
      "cell_type": "code",
      "metadata": {
        "id": "nKKFgSXx-LsE",
        "colab_type": "code",
        "colab": {}
      },
      "source": [
        "from tensorflow.keras.preprocessing.sequence import pad_sequences\n",
        "from tensorflow.keras.layers import Embedding, LSTM, Dense, Dropout, Bidirectional\n",
        "from tensorflow.keras.preprocessing.text import Tokenizer\n",
        "from tensorflow.keras.models import Sequential\n",
        "from tensorflow.keras.optimizers import Adam\n",
        "from tensorflow.keras import regularizers\n",
        "import tensorflow.keras.utils as ku \n",
        "import numpy as np"
      ],
      "execution_count": null,
      "outputs": []
    },
    {
      "cell_type": "markdown",
      "metadata": {
        "id": "kCgaea4e4vTN",
        "colab_type": "text"
      },
      "source": [
        "Dataset Analysis"
      ]
    },
    {
      "cell_type": "code",
      "metadata": {
        "id": "AnQ3_-4t_JvM",
        "colab_type": "code",
        "colab": {}
      },
      "source": [
        "data=open('/poemgen1.txt').read()"
      ],
      "execution_count": null,
      "outputs": []
    },
    {
      "cell_type": "markdown",
      "metadata": {
        "id": "FiXjZeju5NgZ",
        "colab_type": "text"
      },
      "source": [
        "Converting the text to lowercase and splitting it \n",
        "\n",
        "\n",
        "NLP"
      ]
    },
    {
      "cell_type": "code",
      "metadata": {
        "id": "C75DqSlrCh5K",
        "colab_type": "code",
        "colab": {}
      },
      "source": [
        "corpus = data.lower().split(\"\\n\")"
      ],
      "execution_count": null,
      "outputs": []
    },
    {
      "cell_type": "markdown",
      "metadata": {
        "id": "oNyFlUkoCst0",
        "colab_type": "text"
      },
      "source": [
        "Tokenization"
      ]
    },
    {
      "cell_type": "code",
      "metadata": {
        "id": "YjDsvqjrClzR",
        "colab_type": "code",
        "colab": {
          "base_uri": "https://localhost:8080/",
          "height": 36
        },
        "outputId": "f7e337f4-8458-438b-f43d-8d47f17bd4ea"
      },
      "source": [
        "tokenizer = Tokenizer()\n",
        "tokenizer.fit_on_texts(corpus)\n",
        "total_words = len(tokenizer.word_index) + 1\n",
        "print(total_words)\n"
      ],
      "execution_count": null,
      "outputs": [
        {
          "output_type": "stream",
          "text": [
            "2032\n"
          ],
          "name": "stdout"
        }
      ]
    },
    {
      "cell_type": "code",
      "metadata": {
        "id": "QBPdmy9SCrf9",
        "colab_type": "code",
        "colab": {}
      },
      "source": [
        "# create input sequences using list of tokens\n",
        "input_sequences = []\n",
        "for line in corpus:\n",
        "\ttoken_list = tokenizer.texts_to_sequences([line])[0]\n",
        "\tfor i in range(1, len(token_list)):\n",
        "\t\tn_gram_sequence = token_list[:i+1]\n",
        "\t\tinput_sequences.append(n_gram_sequence)\n",
        "\n",
        "# pad sequences \n",
        "max_sequence_len = max([len(x) for x in input_sequences])\n",
        "input_sequences = np.array(pad_sequences(input_sequences, maxlen=max_sequence_len, padding='pre'))\n",
        "\n",
        "# create predictors and label\n",
        "predictors, label = input_sequences[:,:-1],input_sequences[:,-1]\n",
        "\n",
        "label = ku.to_categorical(label, num_classes=total_words)"
      ],
      "execution_count": null,
      "outputs": []
    },
    {
      "cell_type": "markdown",
      "metadata": {
        "id": "U2KIc8RMDL_l",
        "colab_type": "text"
      },
      "source": [
        "Building the model"
      ]
    },
    {
      "cell_type": "code",
      "metadata": {
        "id": "jOiGmLSTDU8E",
        "colab_type": "code",
        "colab": {}
      },
      "source": [
        "model = Sequential()\n",
        "model.add(Embedding(total_words, 100, input_length=max_sequence_len-1))\n",
        "model.add(Bidirectional(LSTM(150, return_sequences = True)))\n",
        "model.add(Dropout(0.2))\n",
        "model.add(LSTM(100))\n",
        "model.add(Dense(total_words/2, activation='relu', kernel_regularizer=regularizers.l2(0.01)))\n",
        "model.add(Dense(total_words, activation='softmax'))\n",
        "\n"
      ],
      "execution_count": null,
      "outputs": []
    },
    {
      "cell_type": "markdown",
      "metadata": {
        "id": "JQt89K4KDbOM",
        "colab_type": "text"
      },
      "source": [
        "Compiling the model"
      ]
    },
    {
      "cell_type": "code",
      "metadata": {
        "id": "svvoAyqyDfOT",
        "colab_type": "code",
        "colab": {}
      },
      "source": [
        "model.compile(\n",
        "    loss='categorical_crossentropy',\n",
        "    optimizer='adam',\n",
        "    metrics=['accuracy']\n",
        ")"
      ],
      "execution_count": null,
      "outputs": []
    },
    {
      "cell_type": "code",
      "metadata": {
        "id": "dDNjy8b1DnUb",
        "colab_type": "code",
        "colab": {
          "base_uri": "https://localhost:8080/",
          "height": 410
        },
        "outputId": "2c7bfdbd-bf90-47e6-b4af-a98b9eff6685"
      },
      "source": [
        "print(model.summary())"
      ],
      "execution_count": null,
      "outputs": [
        {
          "output_type": "stream",
          "text": [
            "Model: \"sequential_3\"\n",
            "_________________________________________________________________\n",
            "Layer (type)                 Output Shape              Param #   \n",
            "=================================================================\n",
            "embedding_3 (Embedding)      (None, 15, 100)           203200    \n",
            "_________________________________________________________________\n",
            "bidirectional_3 (Bidirection (None, 15, 300)           301200    \n",
            "_________________________________________________________________\n",
            "dropout_3 (Dropout)          (None, 15, 300)           0         \n",
            "_________________________________________________________________\n",
            "lstm_7 (LSTM)                (None, 100)               160400    \n",
            "_________________________________________________________________\n",
            "dense_6 (Dense)              (None, 1016)              102616    \n",
            "_________________________________________________________________\n",
            "dense_7 (Dense)              (None, 2032)              2066544   \n",
            "=================================================================\n",
            "Total params: 2,833,960\n",
            "Trainable params: 2,833,960\n",
            "Non-trainable params: 0\n",
            "_________________________________________________________________\n",
            "None\n"
          ],
          "name": "stdout"
        }
      ]
    },
    {
      "cell_type": "code",
      "metadata": {
        "id": "XFxMLr4lDurB",
        "colab_type": "code",
        "colab": {
          "base_uri": "https://localhost:8080/",
          "height": 1000
        },
        "outputId": "b30fb884-6862-43c9-dcb9-bc11ad371f67"
      },
      "source": [
        "history = model.fit(predictors, label, epochs=100, verbose=1)"
      ],
      "execution_count": null,
      "outputs": [
        {
          "output_type": "stream",
          "text": [
            "Epoch 1/100\n",
            "234/234 [==============================] - 24s 101ms/step - loss: 6.8992 - accuracy: 0.0584\n",
            "Epoch 2/100\n",
            "234/234 [==============================] - 24s 101ms/step - loss: 6.2212 - accuracy: 0.0617\n",
            "Epoch 3/100\n",
            "234/234 [==============================] - 23s 100ms/step - loss: 6.0476 - accuracy: 0.0643\n",
            "Epoch 4/100\n",
            "234/234 [==============================] - 23s 100ms/step - loss: 5.9334 - accuracy: 0.0710\n",
            "Epoch 5/100\n",
            "234/234 [==============================] - 24s 101ms/step - loss: 5.8454 - accuracy: 0.0732\n",
            "Epoch 6/100\n",
            "234/234 [==============================] - 24s 101ms/step - loss: 5.7562 - accuracy: 0.0812\n",
            "Epoch 7/100\n",
            "234/234 [==============================] - 23s 99ms/step - loss: 5.6706 - accuracy: 0.0874\n",
            "Epoch 8/100\n",
            "234/234 [==============================] - 23s 100ms/step - loss: 5.5768 - accuracy: 0.0940\n",
            "Epoch 9/100\n",
            "234/234 [==============================] - 23s 100ms/step - loss: 5.4855 - accuracy: 0.0978\n",
            "Epoch 10/100\n",
            "234/234 [==============================] - 23s 100ms/step - loss: 5.4062 - accuracy: 0.1000\n",
            "Epoch 11/100\n",
            "234/234 [==============================] - 23s 100ms/step - loss: 5.3394 - accuracy: 0.1048\n",
            "Epoch 12/100\n",
            "234/234 [==============================] - 23s 100ms/step - loss: 5.2734 - accuracy: 0.1112\n",
            "Epoch 13/100\n",
            "234/234 [==============================] - 23s 99ms/step - loss: 5.2156 - accuracy: 0.1120\n",
            "Epoch 14/100\n",
            "234/234 [==============================] - 23s 99ms/step - loss: 5.1587 - accuracy: 0.1165\n",
            "Epoch 15/100\n",
            "234/234 [==============================] - 23s 98ms/step - loss: 5.1042 - accuracy: 0.1205\n",
            "Epoch 16/100\n",
            "234/234 [==============================] - 23s 100ms/step - loss: 5.0543 - accuracy: 0.1251\n",
            "Epoch 17/100\n",
            "234/234 [==============================] - 23s 100ms/step - loss: 4.9986 - accuracy: 0.1281\n",
            "Epoch 18/100\n",
            "234/234 [==============================] - 23s 99ms/step - loss: 4.9321 - accuracy: 0.1340\n",
            "Epoch 19/100\n",
            "234/234 [==============================] - 23s 100ms/step - loss: 4.8634 - accuracy: 0.1374\n",
            "Epoch 20/100\n",
            "234/234 [==============================] - 23s 98ms/step - loss: 4.8095 - accuracy: 0.1398\n",
            "Epoch 21/100\n",
            "234/234 [==============================] - 23s 99ms/step - loss: 4.7458 - accuracy: 0.1460\n",
            "Epoch 22/100\n",
            "234/234 [==============================] - 23s 100ms/step - loss: 4.6972 - accuracy: 0.1465\n",
            "Epoch 23/100\n",
            "234/234 [==============================] - 23s 100ms/step - loss: 4.6343 - accuracy: 0.1524\n",
            "Epoch 24/100\n",
            "234/234 [==============================] - 23s 99ms/step - loss: 4.5757 - accuracy: 0.1569\n",
            "Epoch 25/100\n",
            "234/234 [==============================] - 23s 98ms/step - loss: 4.5178 - accuracy: 0.1603\n",
            "Epoch 26/100\n",
            "234/234 [==============================] - 23s 99ms/step - loss: 4.4588 - accuracy: 0.1677\n",
            "Epoch 27/100\n",
            "234/234 [==============================] - 23s 99ms/step - loss: 4.3916 - accuracy: 0.1705\n",
            "Epoch 28/100\n",
            "234/234 [==============================] - 23s 99ms/step - loss: 4.3336 - accuracy: 0.1791\n",
            "Epoch 29/100\n",
            "234/234 [==============================] - 23s 98ms/step - loss: 4.2843 - accuracy: 0.1779\n",
            "Epoch 30/100\n",
            "234/234 [==============================] - 23s 98ms/step - loss: 4.2255 - accuracy: 0.1866\n",
            "Epoch 31/100\n",
            "234/234 [==============================] - 23s 99ms/step - loss: 4.1707 - accuracy: 0.1874\n",
            "Epoch 32/100\n",
            "234/234 [==============================] - 23s 99ms/step - loss: 4.1648 - accuracy: 0.1903\n",
            "Epoch 33/100\n",
            "234/234 [==============================] - 23s 98ms/step - loss: 4.0912 - accuracy: 0.1958\n",
            "Epoch 34/100\n",
            "234/234 [==============================] - 23s 99ms/step - loss: 4.0128 - accuracy: 0.2090\n",
            "Epoch 35/100\n",
            "234/234 [==============================] - 23s 99ms/step - loss: 3.9508 - accuracy: 0.2165\n",
            "Epoch 36/100\n",
            "234/234 [==============================] - 23s 98ms/step - loss: 3.8963 - accuracy: 0.2206\n",
            "Epoch 37/100\n",
            "234/234 [==============================] - 23s 99ms/step - loss: 3.8475 - accuracy: 0.2268\n",
            "Epoch 38/100\n",
            "234/234 [==============================] - 23s 99ms/step - loss: 3.7881 - accuracy: 0.2402\n",
            "Epoch 39/100\n",
            "234/234 [==============================] - 23s 98ms/step - loss: 3.7352 - accuracy: 0.2458\n",
            "Epoch 40/100\n",
            "234/234 [==============================] - 23s 99ms/step - loss: 3.6840 - accuracy: 0.2517\n",
            "Epoch 41/100\n",
            "234/234 [==============================] - 23s 99ms/step - loss: 3.6290 - accuracy: 0.2599\n",
            "Epoch 42/100\n",
            "234/234 [==============================] - 23s 99ms/step - loss: 3.5907 - accuracy: 0.2702\n",
            "Epoch 43/100\n",
            "234/234 [==============================] - 23s 98ms/step - loss: 3.5366 - accuracy: 0.2765\n",
            "Epoch 44/100\n",
            "234/234 [==============================] - 23s 99ms/step - loss: 3.4922 - accuracy: 0.2851\n",
            "Epoch 45/100\n",
            "234/234 [==============================] - 23s 100ms/step - loss: 3.4381 - accuracy: 0.3006\n",
            "Epoch 46/100\n",
            "234/234 [==============================] - 23s 100ms/step - loss: 3.3926 - accuracy: 0.3097\n",
            "Epoch 47/100\n",
            "234/234 [==============================] - 23s 99ms/step - loss: 3.3255 - accuracy: 0.3221\n",
            "Epoch 48/100\n",
            "234/234 [==============================] - 23s 100ms/step - loss: 3.2875 - accuracy: 0.3296\n",
            "Epoch 49/100\n",
            "234/234 [==============================] - 23s 99ms/step - loss: 3.2560 - accuracy: 0.3390\n",
            "Epoch 50/100\n",
            "234/234 [==============================] - 23s 100ms/step - loss: 3.2137 - accuracy: 0.3420\n",
            "Epoch 51/100\n",
            "234/234 [==============================] - 23s 98ms/step - loss: 3.1725 - accuracy: 0.3508\n",
            "Epoch 52/100\n",
            "234/234 [==============================] - 23s 99ms/step - loss: 3.1254 - accuracy: 0.3632\n",
            "Epoch 53/100\n",
            "234/234 [==============================] - 23s 99ms/step - loss: 3.0762 - accuracy: 0.3711\n",
            "Epoch 54/100\n",
            "234/234 [==============================] - 23s 98ms/step - loss: 3.0308 - accuracy: 0.3868\n",
            "Epoch 55/100\n",
            "234/234 [==============================] - 23s 99ms/step - loss: 3.0012 - accuracy: 0.3924\n",
            "Epoch 56/100\n",
            "234/234 [==============================] - 23s 99ms/step - loss: 2.9626 - accuracy: 0.4005\n",
            "Epoch 57/100\n",
            "234/234 [==============================] - 23s 99ms/step - loss: 2.9299 - accuracy: 0.4113\n",
            "Epoch 58/100\n",
            "234/234 [==============================] - 23s 100ms/step - loss: 2.8847 - accuracy: 0.4214\n",
            "Epoch 59/100\n",
            "234/234 [==============================] - 23s 99ms/step - loss: 2.8380 - accuracy: 0.4322\n",
            "Epoch 60/100\n",
            "234/234 [==============================] - 23s 99ms/step - loss: 2.8044 - accuracy: 0.4403\n",
            "Epoch 61/100\n",
            "234/234 [==============================] - 23s 99ms/step - loss: 2.7651 - accuracy: 0.4521\n",
            "Epoch 62/100\n",
            "234/234 [==============================] - 23s 99ms/step - loss: 2.7243 - accuracy: 0.4593\n",
            "Epoch 63/100\n",
            "234/234 [==============================] - 23s 100ms/step - loss: 2.6970 - accuracy: 0.4668\n",
            "Epoch 64/100\n",
            "234/234 [==============================] - 23s 99ms/step - loss: 2.6474 - accuracy: 0.4814\n",
            "Epoch 65/100\n",
            "234/234 [==============================] - 23s 100ms/step - loss: 2.6509 - accuracy: 0.4797\n",
            "Epoch 66/100\n",
            "234/234 [==============================] - 28s 119ms/step - loss: 2.6002 - accuracy: 0.4895\n",
            "Epoch 67/100\n",
            "234/234 [==============================] - 23s 100ms/step - loss: 2.5544 - accuracy: 0.5049\n",
            "Epoch 68/100\n",
            "234/234 [==============================] - 23s 100ms/step - loss: 2.5176 - accuracy: 0.5082\n",
            "Epoch 69/100\n",
            "234/234 [==============================] - 24s 101ms/step - loss: 2.4826 - accuracy: 0.5187\n",
            "Epoch 70/100\n",
            "234/234 [==============================] - 23s 100ms/step - loss: 2.4498 - accuracy: 0.5259\n",
            "Epoch 71/100\n",
            "234/234 [==============================] - 23s 100ms/step - loss: 2.4337 - accuracy: 0.5313\n",
            "Epoch 72/100\n",
            "234/234 [==============================] - 23s 99ms/step - loss: 2.3973 - accuracy: 0.5373\n",
            "Epoch 73/100\n",
            "234/234 [==============================] - 23s 100ms/step - loss: 2.3605 - accuracy: 0.5489\n",
            "Epoch 74/100\n",
            "234/234 [==============================] - 24s 101ms/step - loss: 2.3339 - accuracy: 0.5527\n",
            "Epoch 75/100\n",
            "234/234 [==============================] - 23s 99ms/step - loss: 2.2992 - accuracy: 0.5553\n",
            "Epoch 76/100\n",
            "234/234 [==============================] - 23s 100ms/step - loss: 2.2776 - accuracy: 0.5652\n",
            "Epoch 77/100\n",
            "234/234 [==============================] - 23s 99ms/step - loss: 2.2564 - accuracy: 0.5684\n",
            "Epoch 78/100\n",
            "234/234 [==============================] - 23s 100ms/step - loss: 2.2090 - accuracy: 0.5845\n",
            "Epoch 79/100\n",
            "234/234 [==============================] - 23s 100ms/step - loss: 2.2023 - accuracy: 0.5822\n",
            "Epoch 80/100\n",
            "234/234 [==============================] - 23s 100ms/step - loss: 2.1676 - accuracy: 0.5928\n",
            "Epoch 81/100\n",
            "234/234 [==============================] - 23s 99ms/step - loss: 2.1379 - accuracy: 0.5921\n",
            "Epoch 82/100\n",
            "234/234 [==============================] - 23s 98ms/step - loss: 2.1255 - accuracy: 0.6050\n",
            "Epoch 83/100\n",
            "234/234 [==============================] - 23s 98ms/step - loss: 2.0877 - accuracy: 0.6098\n",
            "Epoch 84/100\n",
            "234/234 [==============================] - 23s 99ms/step - loss: 2.0695 - accuracy: 0.6171\n",
            "Epoch 85/100\n",
            "234/234 [==============================] - 23s 99ms/step - loss: 2.0305 - accuracy: 0.6227\n",
            "Epoch 86/100\n",
            "234/234 [==============================] - 23s 100ms/step - loss: 2.0183 - accuracy: 0.6322\n",
            "Epoch 87/100\n",
            "234/234 [==============================] - 23s 100ms/step - loss: 1.9709 - accuracy: 0.6424\n",
            "Epoch 88/100\n",
            "234/234 [==============================] - 23s 99ms/step - loss: 1.9620 - accuracy: 0.6416\n",
            "Epoch 89/100\n",
            "234/234 [==============================] - 23s 98ms/step - loss: 1.9342 - accuracy: 0.6494\n",
            "Epoch 90/100\n",
            "234/234 [==============================] - 23s 100ms/step - loss: 1.9192 - accuracy: 0.6531\n",
            "Epoch 91/100\n",
            "234/234 [==============================] - 23s 99ms/step - loss: 1.8992 - accuracy: 0.6553\n",
            "Epoch 92/100\n",
            "234/234 [==============================] - 29s 122ms/step - loss: 1.8821 - accuracy: 0.6590\n",
            "Epoch 93/100\n",
            "234/234 [==============================] - 23s 99ms/step - loss: 1.8486 - accuracy: 0.6657\n",
            "Epoch 94/100\n",
            "234/234 [==============================] - 23s 99ms/step - loss: 1.8279 - accuracy: 0.6689\n",
            "Epoch 95/100\n",
            "234/234 [==============================] - 23s 98ms/step - loss: 1.8135 - accuracy: 0.6774\n",
            "Epoch 96/100\n",
            "234/234 [==============================] - 23s 99ms/step - loss: 1.8240 - accuracy: 0.6657\n",
            "Epoch 97/100\n",
            "234/234 [==============================] - 23s 99ms/step - loss: 1.7843 - accuracy: 0.6748\n",
            "Epoch 98/100\n",
            "234/234 [==============================] - 23s 99ms/step - loss: 1.7604 - accuracy: 0.6849\n",
            "Epoch 99/100\n",
            "234/234 [==============================] - 23s 99ms/step - loss: 1.7348 - accuracy: 0.6886\n",
            "Epoch 100/100\n",
            "234/234 [==============================] - 23s 99ms/step - loss: 1.7138 - accuracy: 0.6933\n"
          ],
          "name": "stdout"
        }
      ]
    },
    {
      "cell_type": "markdown",
      "metadata": {
        "id": "H9Hz2o3S5jV9",
        "colab_type": "text"
      },
      "source": [
        "Plotting graph"
      ]
    },
    {
      "cell_type": "code",
      "metadata": {
        "id": "IiEF9YDpEE7O",
        "colab_type": "code",
        "colab": {
          "base_uri": "https://localhost:8080/",
          "height": 545
        },
        "outputId": "bbb032af-53da-4a08-8cbf-ec824384ae61"
      },
      "source": [
        "import matplotlib.pyplot as plt\n",
        "acc = history.history['accuracy']\n",
        "loss = history.history['loss']\n",
        "\n",
        "epochs = range(len(acc))\n",
        "\n",
        "plt.plot(epochs, acc, 'b', label='Training accuracy')\n",
        "plt.title('Training accuracy')\n",
        "\n",
        "plt.figure()\n",
        "\n",
        "plt.plot(epochs, loss, 'b', label='Training Loss')\n",
        "plt.title('Training loss')\n",
        "plt.legend()\n",
        "\n",
        "plt.show()"
      ],
      "execution_count": null,
      "outputs": [
        {
          "output_type": "display_data",
          "data": {
            "image/png": "[encoded data removed]",
            "text/plain": [
              "<Figure size 432x288 with 1 Axes>"
            ]
          },
          "metadata": {
            "tags": [],
            "needs_background": "light"
          }
        },
        {
          "output_type": "display_data",
          "data": {
            "image/png": "[encoded data removed]",
            "text/plain": [
              "<Figure size 432x288 with 1 Axes>"
            ]
          },
          "metadata": {
            "tags": [],
            "needs_background": "light"
          }
        }
      ]
    },
    {
      "cell_type": "code",
      "metadata": {
        "id": "1qARumtTEJfd",
        "colab_type": "code",
        "colab": {
          "base_uri": "https://localhost:8080/",
          "height": 112
        },
        "outputId": "7dd694a1-c9c1-4e97-8fbb-f95aa4fd0bd0"
      },
      "source": [
        "seed_text = \"Come unto these yellow sands,And then take hands:\"\n",
        "next_words = 100\n",
        "  \n",
        "for _ in range(next_words):\n",
        "\ttoken_list = tokenizer.texts_to_sequences([seed_text])[0]\n",
        "\ttoken_list = pad_sequences([token_list], maxlen=max_sequence_len-1, padding='pre')\n",
        "\tpredicted = model.predict_classes(token_list, verbose=0)\n",
        "\toutput_word = \"\"\n",
        "\tfor word, index in tokenizer.word_index.items():\n",
        "\t\tif index == predicted:\n",
        "\t\t\toutput_word = word\n",
        "\t\t\tbreak\n",
        "\tseed_text += \" \" + output_word\n",
        "\n",
        "print(seed_text)"
      ],
      "execution_count": null,
      "outputs": [
        {
          "output_type": "stream",
          "text": [
            "WARNING:tensorflow:From <ipython-input-32-4a6b28de8f02>:7: Sequential.predict_classes (from tensorflow.python.keras.engine.sequential) is deprecated and will be removed after 2021-01-01.\n",
            "Instructions for updating:\n",
            "Please use instead:* `np.argmax(model.predict(x), axis=-1)`,   if your model does multi-class classification   (e.g. if it uses a `softmax` last-layer activation).* `(model.predict(x) > 0.5).astype(\"int32\")`,   if your model does binary classification   (e.g. if it uses a `sigmoid` last-layer activation).\n",
            "Come unto these yellow sands,And then take hands: that right with old rosin the bow is feegee so powerful and able and know her god when he sets and the meadow that is right across the sea is bare the rose horse with old rosin the bow fought the rocky road to dublin whack wished can not home than she safely father thou art remain him in me from me and i spent in halfway to dublin athy in a sea and love the sea and the moon are arms and i would see me one kathleen dear thee well for some endearing decay when i was a\n"
          ],
          "name": "stdout"
        }
      ]
    }
  ]
}