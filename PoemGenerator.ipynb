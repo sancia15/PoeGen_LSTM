{
  "nbformat": 4,
  "nbformat_minor": 0,
  "metadata": {
    "colab": {
      "name": "PoemGenerator.ipynb",
      "provenance": [],
      "collapsed_sections": [],
      "authorship_tag": "ABX9TyPmLtrNRN3/GiYDikO4nrxi",
      "include_colab_link": true
    },
    "kernelspec": {
      "name": "python3",
      "display_name": "Python 3"
    }
  },
  "cells": [
    {
      "cell_type": "markdown",
      "metadata": {
        "id": "view-in-github",
        "colab_type": "text"
      },
      "source": [
        "<a href=\"https://colab.research.google.com/github/sancia15/PoeGen_LSTM/blob/master/PoemGenerator.ipynb\" target=\"_parent\"><img src=\"https://colab.research.google.com/assets/colab-badge.svg\" alt=\"Open In Colab\"/></a>"
      ]
    },
    {
      "cell_type": "markdown",
      "metadata": {
        "id": "y6tM8NYnAb5n",
        "colab_type": "text"
      },
      "source": [
        "Importing Libraries"
      ]
    },
    {
      "cell_type": "code",
      "metadata": {
        "id": "nKKFgSXx-LsE",
        "colab_type": "code",
        "colab": {}
      },
      "source": [
        "from tensorflow.keras.preprocessing.sequence import pad_sequences\n",
        "from tensorflow.keras.layers import Embedding, LSTM, Dense, Dropout, Bidirectional\n",
        "from tensorflow.keras.preprocessing.text import Tokenizer\n",
        "from tensorflow.keras.models import Sequential\n",
        "from tensorflow.keras.optimizers import Adam\n",
        "from tensorflow.keras import regularizers\n",
        "import tensorflow.keras.utils as ku \n",
        "import numpy as np"
      ],
      "execution_count": 1,
      "outputs": []
    },
    {
      "cell_type": "markdown",
      "metadata": {
        "id": "kCgaea4e4vTN",
        "colab_type": "text"
      },
      "source": [
        "Dataset Analysis"
      ]
    },
    {
      "cell_type": "code",
      "metadata": {
        "id": "AnQ3_-4t_JvM",
        "colab_type": "code",
        "colab": {}
      },
      "source": [
        "data=open('/poemgen1.txt').read()"
      ],
      "execution_count": 2,
      "outputs": []
    },
    {
      "cell_type": "markdown",
      "metadata": {
        "id": "FiXjZeju5NgZ",
        "colab_type": "text"
      },
      "source": [
        "Converting the text to lowercase and splitting it \n",
        "\n",
        "\n",
        "NLP"
      ]
    },
    {
      "cell_type": "code",
      "metadata": {
        "id": "C75DqSlrCh5K",
        "colab_type": "code",
        "colab": {}
      },
      "source": [
        "corpus = data.lower().split(\"\\n\")"
      ],
      "execution_count": 3,
      "outputs": []
    },
    {
      "cell_type": "markdown",
      "metadata": {
        "id": "oNyFlUkoCst0",
        "colab_type": "text"
      },
      "source": [
        "Tokenization"
      ]
    },
    {
      "cell_type": "code",
      "metadata": {
        "id": "YjDsvqjrClzR",
        "colab_type": "code",
        "colab": {
          "base_uri": "https://localhost:8080/",
          "height": 36
        },
        "outputId": "a657a4aa-646f-4165-c53d-274ed76f94c3"
      },
      "source": [
        "tokenizer = Tokenizer()\n",
        "tokenizer.fit_on_texts(corpus)\n",
        "total_words = len(tokenizer.word_index) + 1\n",
        "print(total_words)\n"
      ],
      "execution_count": 4,
      "outputs": [
        {
          "output_type": "stream",
          "text": [
            "2032\n"
          ],
          "name": "stdout"
        }
      ]
    },
    {
      "cell_type": "code",
      "metadata": {
        "id": "QBPdmy9SCrf9",
        "colab_type": "code",
        "colab": {}
      },
      "source": [
        "# create input sequences using list of tokens\n",
        "input_sequences = []\n",
        "for line in corpus:\n",
        "\ttoken_list = tokenizer.texts_to_sequences([line])[0]\n",
        "\tfor i in range(1, len(token_list)):\n",
        "\t\tn_gram_sequence = token_list[:i+1]\n",
        "\t\tinput_sequences.append(n_gram_sequence)\n",
        "\n",
        "# pad sequences \n",
        "max_sequence_len = max([len(x) for x in input_sequences])\n",
        "input_sequences = np.array(pad_sequences(input_sequences, maxlen=max_sequence_len, padding='pre'))\n",
        "\n",
        "# create predictors and label\n",
        "predictors, label = input_sequences[:,:-1],input_sequences[:,-1]\n",
        "\n",
        "label = ku.to_categorical(label, num_classes=total_words)"
      ],
      "execution_count": 5,
      "outputs": []
    },
    {
      "cell_type": "markdown",
      "metadata": {
        "id": "U2KIc8RMDL_l",
        "colab_type": "text"
      },
      "source": [
        "Building the model"
      ]
    },
    {
      "cell_type": "code",
      "metadata": {
        "id": "jOiGmLSTDU8E",
        "colab_type": "code",
        "colab": {}
      },
      "source": [
        "model = Sequential()\n",
        "model.add(Embedding(total_words, 100, input_length=max_sequence_len-1))\n",
        "model.add(Bidirectional(LSTM(200, return_sequences = True)))\n",
        "model.add(Dropout(0.2))\n",
        "model.add(LSTM(100))\n",
        "model.add(Dense(total_words/2, activation='relu', kernel_regularizer=regularizers.l2(0.01)))\n",
        "model.add(Dense(total_words, activation='softmax'))\n",
        "\n"
      ],
      "execution_count": 7,
      "outputs": []
    },
    {
      "cell_type": "markdown",
      "metadata": {
        "id": "JQt89K4KDbOM",
        "colab_type": "text"
      },
      "source": [
        "Compiling the model"
      ]
    },
    {
      "cell_type": "code",
      "metadata": {
        "id": "svvoAyqyDfOT",
        "colab_type": "code",
        "colab": {}
      },
      "source": [
        "model.compile(\n",
        "    loss='categorical_crossentropy',\n",
        "    optimizer='adam',\n",
        "    metrics=['accuracy']\n",
        ")"
      ],
      "execution_count": 8,
      "outputs": []
    },
    {
      "cell_type": "code",
      "metadata": {
        "id": "dDNjy8b1DnUb",
        "colab_type": "code",
        "colab": {
          "base_uri": "https://localhost:8080/",
          "height": 410
        },
        "outputId": "8313c8b4-0e7b-4268-c54d-956de27d2e25"
      },
      "source": [
        "print(model.summary())"
      ],
      "execution_count": 9,
      "outputs": [
        {
          "output_type": "stream",
          "text": [
            "Model: \"sequential_1\"\n",
            "_________________________________________________________________\n",
            "Layer (type)                 Output Shape              Param #   \n",
            "=================================================================\n",
            "embedding_1 (Embedding)      (None, 15, 100)           203200    \n",
            "_________________________________________________________________\n",
            "bidirectional_1 (Bidirection (None, 15, 400)           481600    \n",
            "_________________________________________________________________\n",
            "dropout_1 (Dropout)          (None, 15, 400)           0         \n",
            "_________________________________________________________________\n",
            "lstm_3 (LSTM)                (None, 100)               200400    \n",
            "_________________________________________________________________\n",
            "dense_2 (Dense)              (None, 1016)              102616    \n",
            "_________________________________________________________________\n",
            "dense_3 (Dense)              (None, 2032)              2066544   \n",
            "=================================================================\n",
            "Total params: 3,054,360\n",
            "Trainable params: 3,054,360\n",
            "Non-trainable params: 0\n",
            "_________________________________________________________________\n",
            "None\n"
          ],
          "name": "stdout"
        }
      ]
    },
    {
      "cell_type": "code",
      "metadata": {
        "id": "XFxMLr4lDurB",
        "colab_type": "code",
        "colab": {
          "base_uri": "https://localhost:8080/",
          "height": 1000
        },
        "outputId": "ccfcca1d-1564-431b-cc2e-03c89c307cb8"
      },
      "source": [
        "history = model.fit(predictors, label, epochs=200, verbose=1)"
      ],
      "execution_count": 10,
      "outputs": [
        {
          "output_type": "stream",
          "text": [
            "Epoch 1/200\n",
            "234/234 [==============================] - 31s 132ms/step - loss: 6.8942 - accuracy: 0.0576\n",
            "Epoch 2/200\n",
            "234/234 [==============================] - 31s 131ms/step - loss: 6.2214 - accuracy: 0.0615\n",
            "Epoch 3/200\n",
            "234/234 [==============================] - 30s 130ms/step - loss: 6.0667 - accuracy: 0.0633\n",
            "Epoch 4/200\n",
            "234/234 [==============================] - 31s 131ms/step - loss: 5.9429 - accuracy: 0.0634\n",
            "Epoch 5/200\n",
            "234/234 [==============================] - 31s 131ms/step - loss: 5.8524 - accuracy: 0.0712\n",
            "Epoch 6/200\n",
            "234/234 [==============================] - 31s 131ms/step - loss: 5.7654 - accuracy: 0.0818\n",
            "Epoch 7/200\n",
            "234/234 [==============================] - 30s 130ms/step - loss: 5.6678 - accuracy: 0.0901\n",
            "Epoch 8/200\n",
            "234/234 [==============================] - 31s 132ms/step - loss: 5.5827 - accuracy: 0.0964\n",
            "Epoch 9/200\n",
            "234/234 [==============================] - 31s 132ms/step - loss: 5.5002 - accuracy: 0.1036\n",
            "Epoch 10/200\n",
            "234/234 [==============================] - 31s 131ms/step - loss: 5.4372 - accuracy: 0.1043\n",
            "Epoch 11/200\n",
            "234/234 [==============================] - 31s 131ms/step - loss: 5.3774 - accuracy: 0.1088\n",
            "Epoch 12/200\n",
            "234/234 [==============================] - 31s 132ms/step - loss: 5.3153 - accuracy: 0.1149\n",
            "Epoch 13/200\n",
            "234/234 [==============================] - 31s 131ms/step - loss: 5.2571 - accuracy: 0.1178\n",
            "Epoch 14/200\n",
            "234/234 [==============================] - 31s 131ms/step - loss: 5.2009 - accuracy: 0.1225\n",
            "Epoch 15/200\n",
            "234/234 [==============================] - 30s 130ms/step - loss: 5.1426 - accuracy: 0.1253\n",
            "Epoch 16/200\n",
            "234/234 [==============================] - 31s 132ms/step - loss: 5.0930 - accuracy: 0.1256\n",
            "Epoch 17/200\n",
            "234/234 [==============================] - 31s 131ms/step - loss: 5.0395 - accuracy: 0.1296\n",
            "Epoch 18/200\n",
            "234/234 [==============================] - 31s 131ms/step - loss: 4.9945 - accuracy: 0.1301\n",
            "Epoch 19/200\n",
            "234/234 [==============================] - 31s 131ms/step - loss: 4.9503 - accuracy: 0.1334\n",
            "Epoch 20/200\n",
            "234/234 [==============================] - 31s 134ms/step - loss: 4.9053 - accuracy: 0.1381\n",
            "Epoch 21/200\n",
            "234/234 [==============================] - 31s 134ms/step - loss: 4.8654 - accuracy: 0.1418\n",
            "Epoch 22/200\n",
            "234/234 [==============================] - 31s 134ms/step - loss: 4.8156 - accuracy: 0.1425\n",
            "Epoch 23/200\n",
            "234/234 [==============================] - 31s 133ms/step - loss: 4.7581 - accuracy: 0.1460\n",
            "Epoch 24/200\n",
            "234/234 [==============================] - 31s 134ms/step - loss: 4.7176 - accuracy: 0.1486\n",
            "Epoch 25/200\n",
            "234/234 [==============================] - 31s 134ms/step - loss: 4.6803 - accuracy: 0.1485\n",
            "Epoch 26/200\n",
            "234/234 [==============================] - 31s 133ms/step - loss: 4.6227 - accuracy: 0.1548\n",
            "Epoch 27/200\n",
            "234/234 [==============================] - 31s 134ms/step - loss: 4.5737 - accuracy: 0.1631\n",
            "Epoch 28/200\n",
            "234/234 [==============================] - 31s 134ms/step - loss: 4.5212 - accuracy: 0.1666\n",
            "Epoch 29/200\n",
            "234/234 [==============================] - 31s 134ms/step - loss: 4.4799 - accuracy: 0.1679\n",
            "Epoch 30/200\n",
            "234/234 [==============================] - 30s 130ms/step - loss: 4.4365 - accuracy: 0.1741\n",
            "Epoch 31/200\n",
            "234/234 [==============================] - 31s 131ms/step - loss: 4.3904 - accuracy: 0.1799\n",
            "Epoch 32/200\n",
            "234/234 [==============================] - 31s 133ms/step - loss: 4.3467 - accuracy: 0.1787\n",
            "Epoch 33/200\n",
            "234/234 [==============================] - 31s 131ms/step - loss: 4.3146 - accuracy: 0.1834\n",
            "Epoch 34/200\n",
            "234/234 [==============================] - 31s 131ms/step - loss: 4.2767 - accuracy: 0.1862\n",
            "Epoch 35/200\n",
            "234/234 [==============================] - 31s 131ms/step - loss: 4.2342 - accuracy: 0.1915\n",
            "Epoch 36/200\n",
            "234/234 [==============================] - 31s 131ms/step - loss: 4.1793 - accuracy: 0.1953\n",
            "Epoch 37/200\n",
            "234/234 [==============================] - 31s 131ms/step - loss: 4.1537 - accuracy: 0.1938\n",
            "Epoch 38/200\n",
            "234/234 [==============================] - 31s 131ms/step - loss: 4.1268 - accuracy: 0.2023\n",
            "Epoch 39/200\n",
            "234/234 [==============================] - 31s 131ms/step - loss: 4.0660 - accuracy: 0.2094\n",
            "Epoch 40/200\n",
            "234/234 [==============================] - 31s 131ms/step - loss: 4.0029 - accuracy: 0.2167\n",
            "Epoch 41/200\n",
            "234/234 [==============================] - 31s 131ms/step - loss: 3.9614 - accuracy: 0.2229\n",
            "Epoch 42/200\n",
            "234/234 [==============================] - 31s 131ms/step - loss: 3.9083 - accuracy: 0.2250\n",
            "Epoch 43/200\n",
            "234/234 [==============================] - 31s 132ms/step - loss: 3.8686 - accuracy: 0.2274\n",
            "Epoch 44/200\n",
            "234/234 [==============================] - 31s 132ms/step - loss: 3.8213 - accuracy: 0.2368\n",
            "Epoch 45/200\n",
            "234/234 [==============================] - 31s 131ms/step - loss: 3.7953 - accuracy: 0.2366\n",
            "Epoch 46/200\n",
            "234/234 [==============================] - 31s 132ms/step - loss: 3.7652 - accuracy: 0.2442\n",
            "Epoch 47/200\n",
            "234/234 [==============================] - 31s 134ms/step - loss: 3.6877 - accuracy: 0.2555\n",
            "Epoch 48/200\n",
            "234/234 [==============================] - 31s 132ms/step - loss: 3.6520 - accuracy: 0.2571\n",
            "Epoch 49/200\n",
            "234/234 [==============================] - 31s 132ms/step - loss: 3.6066 - accuracy: 0.2636\n",
            "Epoch 50/200\n",
            "234/234 [==============================] - 31s 133ms/step - loss: 3.6161 - accuracy: 0.2665\n",
            "Epoch 51/200\n",
            "234/234 [==============================] - 31s 131ms/step - loss: 3.5417 - accuracy: 0.2756\n",
            "Epoch 52/200\n",
            "234/234 [==============================] - 31s 132ms/step - loss: 3.4968 - accuracy: 0.2770\n",
            "Epoch 53/200\n",
            "234/234 [==============================] - 31s 130ms/step - loss: 3.4713 - accuracy: 0.2813\n",
            "Epoch 54/200\n",
            "234/234 [==============================] - 30s 130ms/step - loss: 3.4059 - accuracy: 0.2970\n",
            "Epoch 55/200\n",
            "234/234 [==============================] - 31s 131ms/step - loss: 3.3509 - accuracy: 0.3061\n",
            "Epoch 56/200\n",
            "234/234 [==============================] - 31s 131ms/step - loss: 3.3184 - accuracy: 0.3142\n",
            "Epoch 57/200\n",
            "234/234 [==============================] - 31s 132ms/step - loss: 3.2755 - accuracy: 0.3217\n",
            "Epoch 58/200\n",
            "234/234 [==============================] - 30s 130ms/step - loss: 3.2360 - accuracy: 0.3337\n",
            "Epoch 59/200\n",
            "234/234 [==============================] - 31s 132ms/step - loss: 3.1992 - accuracy: 0.3407\n",
            "Epoch 60/200\n",
            "234/234 [==============================] - 31s 132ms/step - loss: 3.1530 - accuracy: 0.3466\n",
            "Epoch 61/200\n",
            "234/234 [==============================] - 30s 130ms/step - loss: 3.1352 - accuracy: 0.3506\n",
            "Epoch 62/200\n",
            "234/234 [==============================] - 31s 132ms/step - loss: 3.0765 - accuracy: 0.3604\n",
            "Epoch 63/200\n",
            "234/234 [==============================] - 31s 131ms/step - loss: 3.0754 - accuracy: 0.3624\n",
            "Epoch 64/200\n",
            "234/234 [==============================] - 31s 131ms/step - loss: 3.0161 - accuracy: 0.3711\n",
            "Epoch 65/200\n",
            "234/234 [==============================] - 31s 131ms/step - loss: 2.9736 - accuracy: 0.3808\n",
            "Epoch 66/200\n",
            "234/234 [==============================] - 31s 131ms/step - loss: 2.9272 - accuracy: 0.3958\n",
            "Epoch 67/200\n",
            "234/234 [==============================] - 31s 131ms/step - loss: 2.8961 - accuracy: 0.4060\n",
            "Epoch 68/200\n",
            "234/234 [==============================] - 31s 132ms/step - loss: 2.8620 - accuracy: 0.4050\n",
            "Epoch 69/200\n",
            "234/234 [==============================] - 31s 131ms/step - loss: 2.8201 - accuracy: 0.4235\n",
            "Epoch 70/200\n",
            "234/234 [==============================] - 31s 132ms/step - loss: 2.8428 - accuracy: 0.4206\n",
            "Epoch 71/200\n",
            "234/234 [==============================] - 31s 132ms/step - loss: 2.7724 - accuracy: 0.4294\n",
            "Epoch 72/200\n",
            "234/234 [==============================] - 31s 132ms/step - loss: 2.7320 - accuracy: 0.4431\n",
            "Epoch 73/200\n",
            "234/234 [==============================] - 31s 131ms/step - loss: 2.6920 - accuracy: 0.4541\n",
            "Epoch 74/200\n",
            "234/234 [==============================] - 31s 133ms/step - loss: 2.6519 - accuracy: 0.4609\n",
            "Epoch 75/200\n",
            "234/234 [==============================] - 31s 131ms/step - loss: 2.6273 - accuracy: 0.4654\n",
            "Epoch 76/200\n",
            "234/234 [==============================] - 31s 131ms/step - loss: 2.5935 - accuracy: 0.4800\n",
            "Epoch 77/200\n",
            "234/234 [==============================] - 31s 131ms/step - loss: 2.5429 - accuracy: 0.4895\n",
            "Epoch 78/200\n",
            "234/234 [==============================] - 31s 131ms/step - loss: 2.5217 - accuracy: 0.4922\n",
            "Epoch 79/200\n",
            "234/234 [==============================] - 31s 131ms/step - loss: 2.5810 - accuracy: 0.4809\n",
            "Epoch 80/200\n",
            "234/234 [==============================] - 31s 131ms/step - loss: 2.5050 - accuracy: 0.4915\n",
            "Epoch 81/200\n",
            "234/234 [==============================] - 31s 130ms/step - loss: 2.4368 - accuracy: 0.5190\n",
            "Epoch 82/200\n",
            "234/234 [==============================] - 31s 132ms/step - loss: 2.3974 - accuracy: 0.5170\n",
            "Epoch 83/200\n",
            "234/234 [==============================] - 31s 132ms/step - loss: 2.3677 - accuracy: 0.5338\n",
            "Epoch 84/200\n",
            "234/234 [==============================] - 31s 131ms/step - loss: 2.3681 - accuracy: 0.5267\n",
            "Epoch 85/200\n",
            "234/234 [==============================] - 31s 131ms/step - loss: 2.3254 - accuracy: 0.5407\n",
            "Epoch 86/200\n",
            "234/234 [==============================] - 31s 131ms/step - loss: 2.2745 - accuracy: 0.5585\n",
            "Epoch 87/200\n",
            "234/234 [==============================] - 31s 132ms/step - loss: 2.2532 - accuracy: 0.5588\n",
            "Epoch 88/200\n",
            "234/234 [==============================] - 31s 130ms/step - loss: 2.2324 - accuracy: 0.5700\n",
            "Epoch 89/200\n",
            "234/234 [==============================] - 31s 133ms/step - loss: 2.2063 - accuracy: 0.5700\n",
            "Epoch 90/200\n",
            "234/234 [==============================] - 31s 131ms/step - loss: 2.1651 - accuracy: 0.5852\n",
            "Epoch 91/200\n",
            "234/234 [==============================] - 30s 130ms/step - loss: 2.1404 - accuracy: 0.5956\n",
            "Epoch 92/200\n",
            "234/234 [==============================] - 31s 131ms/step - loss: 2.1215 - accuracy: 0.5917\n",
            "Epoch 93/200\n",
            "234/234 [==============================] - 31s 132ms/step - loss: 2.1113 - accuracy: 0.6005\n",
            "Epoch 94/200\n",
            "234/234 [==============================] - 31s 132ms/step - loss: 2.0812 - accuracy: 0.6053\n",
            "Epoch 95/200\n",
            "234/234 [==============================] - 31s 132ms/step - loss: 2.0416 - accuracy: 0.6106\n",
            "Epoch 96/200\n",
            "234/234 [==============================] - 31s 131ms/step - loss: 2.0261 - accuracy: 0.6171\n",
            "Epoch 97/200\n",
            "234/234 [==============================] - 31s 133ms/step - loss: 1.9970 - accuracy: 0.6230\n",
            "Epoch 98/200\n",
            "234/234 [==============================] - 31s 134ms/step - loss: 1.9854 - accuracy: 0.6212\n",
            "Epoch 99/200\n",
            "234/234 [==============================] - 31s 134ms/step - loss: 2.0369 - accuracy: 0.6125\n",
            "Epoch 100/200\n",
            "234/234 [==============================] - 31s 133ms/step - loss: 1.9790 - accuracy: 0.6277\n",
            "Epoch 101/200\n",
            "234/234 [==============================] - 31s 134ms/step - loss: 1.9176 - accuracy: 0.6427\n",
            "Epoch 102/200\n",
            "234/234 [==============================] - 31s 134ms/step - loss: 1.8922 - accuracy: 0.6550\n",
            "Epoch 103/200\n",
            "234/234 [==============================] - 31s 134ms/step - loss: 1.8488 - accuracy: 0.6614\n",
            "Epoch 104/200\n",
            "234/234 [==============================] - 31s 133ms/step - loss: 1.8249 - accuracy: 0.6626\n",
            "Epoch 105/200\n",
            "234/234 [==============================] - 31s 133ms/step - loss: 1.7957 - accuracy: 0.6710\n",
            "Epoch 106/200\n",
            "234/234 [==============================] - 31s 132ms/step - loss: 1.7914 - accuracy: 0.6719\n",
            "Epoch 107/200\n",
            "234/234 [==============================] - 31s 132ms/step - loss: 1.7683 - accuracy: 0.6752\n",
            "Epoch 108/200\n",
            "234/234 [==============================] - 31s 131ms/step - loss: 1.7650 - accuracy: 0.6765\n",
            "Epoch 109/200\n",
            "234/234 [==============================] - 31s 131ms/step - loss: 1.7405 - accuracy: 0.6837\n",
            "Epoch 110/200\n",
            "234/234 [==============================] - 30s 130ms/step - loss: 1.7126 - accuracy: 0.6937\n",
            "Epoch 111/200\n",
            "234/234 [==============================] - 30s 130ms/step - loss: 1.7134 - accuracy: 0.6908\n",
            "Epoch 112/200\n",
            "234/234 [==============================] - 31s 131ms/step - loss: 1.6810 - accuracy: 0.6967\n",
            "Epoch 113/200\n",
            "234/234 [==============================] - 31s 131ms/step - loss: 1.6563 - accuracy: 0.7039\n",
            "Epoch 114/200\n",
            "234/234 [==============================] - 31s 131ms/step - loss: 1.6693 - accuracy: 0.6955\n",
            "Epoch 115/200\n",
            "234/234 [==============================] - 31s 131ms/step - loss: 1.6472 - accuracy: 0.7014\n",
            "Epoch 116/200\n",
            "234/234 [==============================] - 31s 132ms/step - loss: 1.6229 - accuracy: 0.7071\n",
            "Epoch 117/200\n",
            "234/234 [==============================] - 31s 131ms/step - loss: 1.5971 - accuracy: 0.7155\n",
            "Epoch 118/200\n",
            "234/234 [==============================] - 31s 131ms/step - loss: 1.5965 - accuracy: 0.7153\n",
            "Epoch 119/200\n",
            "234/234 [==============================] - 31s 132ms/step - loss: 1.5585 - accuracy: 0.7218\n",
            "Epoch 120/200\n",
            "234/234 [==============================] - 31s 131ms/step - loss: 1.6118 - accuracy: 0.7092\n",
            "Epoch 121/200\n",
            "234/234 [==============================] - 31s 132ms/step - loss: 1.5534 - accuracy: 0.7146\n",
            "Epoch 122/200\n",
            "234/234 [==============================] - 31s 131ms/step - loss: 1.5218 - accuracy: 0.7235\n",
            "Epoch 123/200\n",
            "234/234 [==============================] - 31s 131ms/step - loss: 1.5042 - accuracy: 0.7294\n",
            "Epoch 124/200\n",
            "234/234 [==============================] - 31s 131ms/step - loss: 1.4955 - accuracy: 0.7374\n",
            "Epoch 125/200\n",
            "234/234 [==============================] - 31s 131ms/step - loss: 1.4795 - accuracy: 0.7368\n",
            "Epoch 126/200\n",
            "234/234 [==============================] - 31s 132ms/step - loss: 1.4642 - accuracy: 0.7380\n",
            "Epoch 127/200\n",
            "234/234 [==============================] - 31s 132ms/step - loss: 1.4511 - accuracy: 0.7440\n",
            "Epoch 128/200\n",
            "234/234 [==============================] - 31s 131ms/step - loss: 1.4350 - accuracy: 0.7476\n",
            "Epoch 129/200\n",
            "234/234 [==============================] - 31s 131ms/step - loss: 1.4271 - accuracy: 0.7470\n",
            "Epoch 130/200\n",
            "234/234 [==============================] - 30s 129ms/step - loss: 1.4142 - accuracy: 0.7451\n",
            "Epoch 131/200\n",
            "234/234 [==============================] - 31s 130ms/step - loss: 1.4122 - accuracy: 0.7467\n",
            "Epoch 132/200\n",
            "234/234 [==============================] - 31s 132ms/step - loss: 1.3896 - accuracy: 0.7539\n",
            "Epoch 133/200\n",
            "234/234 [==============================] - 31s 131ms/step - loss: 1.3778 - accuracy: 0.7546\n",
            "Epoch 134/200\n",
            "234/234 [==============================] - 31s 130ms/step - loss: 1.3573 - accuracy: 0.7573\n",
            "Epoch 135/200\n",
            "234/234 [==============================] - 30s 130ms/step - loss: 1.3668 - accuracy: 0.7600\n",
            "Epoch 136/200\n",
            "234/234 [==============================] - 31s 131ms/step - loss: 1.3496 - accuracy: 0.7626\n",
            "Epoch 137/200\n",
            "234/234 [==============================] - 31s 132ms/step - loss: 1.3324 - accuracy: 0.7594\n",
            "Epoch 138/200\n",
            "234/234 [==============================] - 31s 132ms/step - loss: 1.3175 - accuracy: 0.7671\n",
            "Epoch 139/200\n",
            "234/234 [==============================] - 31s 132ms/step - loss: 1.3100 - accuracy: 0.7652\n",
            "Epoch 140/200\n",
            "234/234 [==============================] - 31s 131ms/step - loss: 1.2961 - accuracy: 0.7719\n",
            "Epoch 141/200\n",
            "234/234 [==============================] - 31s 131ms/step - loss: 1.2842 - accuracy: 0.7721\n",
            "Epoch 142/200\n",
            "234/234 [==============================] - 31s 131ms/step - loss: 1.2730 - accuracy: 0.7768\n",
            "Epoch 143/200\n",
            "234/234 [==============================] - 31s 131ms/step - loss: 1.2687 - accuracy: 0.7762\n",
            "Epoch 144/200\n",
            "234/234 [==============================] - 31s 131ms/step - loss: 1.2763 - accuracy: 0.7703\n",
            "Epoch 145/200\n",
            "234/234 [==============================] - 30s 130ms/step - loss: 1.2634 - accuracy: 0.7721\n",
            "Epoch 146/200\n",
            "234/234 [==============================] - 31s 131ms/step - loss: 1.2351 - accuracy: 0.7835\n",
            "Epoch 147/200\n",
            "234/234 [==============================] - 31s 131ms/step - loss: 1.2177 - accuracy: 0.7860\n",
            "Epoch 148/200\n",
            "234/234 [==============================] - 31s 132ms/step - loss: 1.2106 - accuracy: 0.7850\n",
            "Epoch 149/200\n",
            "234/234 [==============================] - 31s 132ms/step - loss: 1.2116 - accuracy: 0.7865\n",
            "Epoch 150/200\n",
            "234/234 [==============================] - 31s 132ms/step - loss: 1.1950 - accuracy: 0.7912\n",
            "Epoch 151/200\n",
            "234/234 [==============================] - 31s 132ms/step - loss: 1.1799 - accuracy: 0.7892\n",
            "Epoch 152/200\n",
            "234/234 [==============================] - 31s 132ms/step - loss: 1.1868 - accuracy: 0.7869\n",
            "Epoch 153/200\n",
            "234/234 [==============================] - 31s 133ms/step - loss: 1.1812 - accuracy: 0.7904\n",
            "Epoch 154/200\n",
            "234/234 [==============================] - 31s 132ms/step - loss: 1.1701 - accuracy: 0.7854\n",
            "Epoch 155/200\n",
            "234/234 [==============================] - 31s 131ms/step - loss: 1.1592 - accuracy: 0.7945\n",
            "Epoch 156/200\n",
            "234/234 [==============================] - 31s 133ms/step - loss: 1.1504 - accuracy: 0.7924\n",
            "Epoch 157/200\n",
            "234/234 [==============================] - 31s 133ms/step - loss: 1.1426 - accuracy: 0.7957\n",
            "Epoch 158/200\n",
            "234/234 [==============================] - 31s 133ms/step - loss: 1.1237 - accuracy: 0.7976\n",
            "Epoch 159/200\n",
            "234/234 [==============================] - 31s 134ms/step - loss: 1.1144 - accuracy: 0.8015\n",
            "Epoch 160/200\n",
            "234/234 [==============================] - 31s 132ms/step - loss: 1.1226 - accuracy: 0.7999\n",
            "Epoch 161/200\n",
            "234/234 [==============================] - 31s 132ms/step - loss: 1.1123 - accuracy: 0.7996\n",
            "Epoch 162/200\n",
            "234/234 [==============================] - 31s 132ms/step - loss: 1.1134 - accuracy: 0.7992\n",
            "Epoch 163/200\n",
            "234/234 [==============================] - 31s 133ms/step - loss: 1.0986 - accuracy: 0.7998\n",
            "Epoch 164/200\n",
            "234/234 [==============================] - 31s 132ms/step - loss: 1.0889 - accuracy: 0.8010\n",
            "Epoch 165/200\n",
            "234/234 [==============================] - 31s 131ms/step - loss: 1.0996 - accuracy: 0.7999\n",
            "Epoch 166/200\n",
            "234/234 [==============================] - 31s 132ms/step - loss: 1.0850 - accuracy: 0.7994\n",
            "Epoch 167/200\n",
            "234/234 [==============================] - 31s 132ms/step - loss: 1.0758 - accuracy: 0.8061\n",
            "Epoch 168/200\n",
            "234/234 [==============================] - 31s 132ms/step - loss: 1.0627 - accuracy: 0.8086\n",
            "Epoch 169/200\n",
            "234/234 [==============================] - 31s 133ms/step - loss: 1.0567 - accuracy: 0.8087\n",
            "Epoch 170/200\n",
            "234/234 [==============================] - 31s 133ms/step - loss: 1.0454 - accuracy: 0.8085\n",
            "Epoch 171/200\n",
            "234/234 [==============================] - 31s 131ms/step - loss: 1.0526 - accuracy: 0.8077\n",
            "Epoch 172/200\n",
            "234/234 [==============================] - 31s 132ms/step - loss: 1.0512 - accuracy: 0.8043\n",
            "Epoch 173/200\n",
            "234/234 [==============================] - 31s 133ms/step - loss: 1.0313 - accuracy: 0.8122\n",
            "Epoch 174/200\n",
            "234/234 [==============================] - 31s 131ms/step - loss: 1.0260 - accuracy: 0.8113\n",
            "Epoch 175/200\n",
            "234/234 [==============================] - 31s 131ms/step - loss: 1.0185 - accuracy: 0.8141\n",
            "Epoch 176/200\n",
            "234/234 [==============================] - 31s 131ms/step - loss: 1.0199 - accuracy: 0.8152\n",
            "Epoch 177/200\n",
            "234/234 [==============================] - 31s 132ms/step - loss: 1.0180 - accuracy: 0.8136\n",
            "Epoch 178/200\n",
            "234/234 [==============================] - 31s 131ms/step - loss: 1.0048 - accuracy: 0.8141\n",
            "Epoch 179/200\n",
            "234/234 [==============================] - 31s 132ms/step - loss: 0.9908 - accuracy: 0.8235\n",
            "Epoch 180/200\n",
            "234/234 [==============================] - 31s 131ms/step - loss: 0.9920 - accuracy: 0.8173\n",
            "Epoch 181/200\n",
            "234/234 [==============================] - 31s 133ms/step - loss: 0.9878 - accuracy: 0.8195\n",
            "Epoch 182/200\n",
            "234/234 [==============================] - 31s 133ms/step - loss: 0.9838 - accuracy: 0.8197\n",
            "Epoch 183/200\n",
            "234/234 [==============================] - 31s 133ms/step - loss: 0.9761 - accuracy: 0.8180\n",
            "Epoch 184/200\n",
            "234/234 [==============================] - 31s 131ms/step - loss: 0.9669 - accuracy: 0.8201\n",
            "Epoch 185/200\n",
            "234/234 [==============================] - 31s 132ms/step - loss: 0.9545 - accuracy: 0.8216\n",
            "Epoch 186/200\n",
            "234/234 [==============================] - 31s 131ms/step - loss: 0.9622 - accuracy: 0.8228\n",
            "Epoch 187/200\n",
            "234/234 [==============================] - 31s 132ms/step - loss: 0.9753 - accuracy: 0.8183\n",
            "Epoch 188/200\n",
            "234/234 [==============================] - 31s 132ms/step - loss: 0.9457 - accuracy: 0.8263\n",
            "Epoch 189/200\n",
            "234/234 [==============================] - 31s 132ms/step - loss: 0.9462 - accuracy: 0.8275\n",
            "Epoch 190/200\n",
            "234/234 [==============================] - 31s 132ms/step - loss: 0.9404 - accuracy: 0.8262\n",
            "Epoch 191/200\n",
            "234/234 [==============================] - 31s 132ms/step - loss: 0.9386 - accuracy: 0.8254\n",
            "Epoch 192/200\n",
            "234/234 [==============================] - 31s 132ms/step - loss: 0.9251 - accuracy: 0.8315\n",
            "Epoch 193/200\n",
            "234/234 [==============================] - 31s 132ms/step - loss: 0.9257 - accuracy: 0.8290\n",
            "Epoch 194/200\n",
            "234/234 [==============================] - 31s 132ms/step - loss: 0.9270 - accuracy: 0.8303\n",
            "Epoch 195/200\n",
            "234/234 [==============================] - 31s 131ms/step - loss: 0.9153 - accuracy: 0.8322\n",
            "Epoch 196/200\n",
            "234/234 [==============================] - 31s 132ms/step - loss: 0.9025 - accuracy: 0.8342\n",
            "Epoch 197/200\n",
            "234/234 [==============================] - 31s 132ms/step - loss: 0.9059 - accuracy: 0.8294\n",
            "Epoch 198/200\n",
            "234/234 [==============================] - 32s 135ms/step - loss: 0.9064 - accuracy: 0.8303\n",
            "Epoch 199/200\n",
            "234/234 [==============================] - 31s 134ms/step - loss: 0.9148 - accuracy: 0.8266\n",
            "Epoch 200/200\n",
            "234/234 [==============================] - 31s 134ms/step - loss: 0.8965 - accuracy: 0.8338\n"
          ],
          "name": "stdout"
        }
      ]
    },
    {
      "cell_type": "markdown",
      "metadata": {
        "id": "H9Hz2o3S5jV9",
        "colab_type": "text"
      },
      "source": [
        "Plotting graph"
      ]
    },
    {
      "cell_type": "code",
      "metadata": {
        "id": "IiEF9YDpEE7O",
        "colab_type": "code",
        "colab": {
          "base_uri": "https://localhost:8080/",
          "height": 545
        },
        "outputId": "4482242f-5385-4637-af51-137c9edf640f"
      },
      "source": [
        "import matplotlib.pyplot as plt\n",
        "acc = history.history['accuracy']\n",
        "loss = history.history['loss']\n",
        "\n",
        "epochs = range(len(acc))\n",
        "\n",
        "plt.plot(epochs, acc, 'b', label='Training accuracy')\n",
        "plt.title('Training accuracy')\n",
        "\n",
        "plt.figure()\n",
        "\n",
        "plt.plot(epochs, loss, 'b', label='Training Loss')\n",
        "plt.title('Training loss')\n",
        "plt.legend()\n",
        "\n",
        "plt.show()"
      ],
      "execution_count": 11,
      "outputs": [
        {
          "output_type": "display_data",
          "data": {
            "image/png": "[encoded data removed]",
            "text/plain": [
              "<Figure size 432x288 with 1 Axes>"
            ]
          },
          "metadata": {
            "tags": [],
            "needs_background": "light"
          }
        },
        {
          "output_type": "display_data",
          "data": {
            "image/png": "[encoded data removed]",
            "text/plain": [
              "<Figure size 432x288 with 1 Axes>"
            ]
          },
          "metadata": {
            "tags": [],
            "needs_background": "light"
          }
        }
      ]
    },
    {
      "cell_type": "code",
      "metadata": {
        "id": "1qARumtTEJfd",
        "colab_type": "code",
        "colab": {
          "base_uri": "https://localhost:8080/",
          "height": 112
        },
        "outputId": "c9f2f015-b283-4acf-c552-a75d569974d7"
      },
      "source": [
        "seed_text = \"Come all ye maidens young and fair\"\n",
        "next_words = 100\n",
        "  \n",
        "for _ in range(next_words):\n",
        "\ttoken_list = tokenizer.texts_to_sequences([seed_text])[0]\n",
        "\ttoken_list = pad_sequences([token_list], maxlen=max_sequence_len-1, padding='pre')\n",
        "\tpredicted = model.predict_classes(token_list, verbose=0)\n",
        "\toutput_word = \"\"\n",
        "\tfor word, index in tokenizer.word_index.items():\n",
        "\t\tif index == predicted:\n",
        "\t\t\toutput_word = word\n",
        "\t\t\tbreak\n",
        "\tseed_text += \" \" + output_word\n",
        "\n",
        "print(seed_text)"
      ],
      "execution_count": 12,
      "outputs": [
        {
          "output_type": "stream",
          "text": [
            "WARNING:tensorflow:From <ipython-input-12-865e0875a096>:7: Sequential.predict_classes (from tensorflow.python.keras.engine.sequential) is deprecated and will be removed after 2021-01-01.\n",
            "Instructions for updating:\n",
            "Please use instead:* `np.argmax(model.predict(x), axis=-1)`,   if your model does multi-class classification   (e.g. if it uses a `softmax` last-layer activation).* `(model.predict(x) > 0.5).astype(\"int32\")`,   if your model does binary classification   (e.g. if it uses a `sigmoid` last-layer activation).\n",
            "Come all ye maidens young and fair and laid her city to me his renown rough this garden and ink so man volunteers remain long banks early nice day and want me never be wind they each half wheels her barrow embarrass a farm and put an accident night you does me no good song up in the friends and porter to welcome stranger hand on me and a moth in the town of much erin the west desolation id advance cry taken you bide meself be were runctions this friends the young way of me so fair lines wild fleet that wind they night youre landed\n"
          ],
          "name": "stdout"
        }
      ]
    },
    {
      "cell_type": "markdown",
      "metadata": {
        "id": "kbN2XZidZNqB",
        "colab_type": "text"
      },
      "source": [
        "The accuracy has reached 80% with increased epochs"
      ]
    }
  ]
}